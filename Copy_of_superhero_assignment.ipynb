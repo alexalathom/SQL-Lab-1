{
  "cells": [
    {
      "cell_type": "markdown",
      "metadata": {
        "id": "view-in-github",
        "colab_type": "text"
      },
      "source": [
        "<a href=\"https://colab.research.google.com/github/alexalathom/SQL-Lab-1/blob/main/Copy_of_superhero_assignment.ipynb\" target=\"_parent\"><img src=\"https://colab.research.google.com/assets/colab-badge.svg\" alt=\"Open In Colab\"/></a>"
      ]
    },
    {
      "cell_type": "markdown",
      "id": "5fa8dcf6",
      "metadata": {
        "id": "5fa8dcf6"
      },
      "source": [
        "# Superhero Database Assignment (SQLite & Google Colab)\n",
        "\n",
        "## Objective\n",
        "In this assignment, you will design and implement a **Superhero Database** using SQLite in Google Colab. This database will store superheroes, villains, and their battles. You will write SQL queries to analyze battle outcomes and relationships between heroes and villains.\n",
        "\n",
        "### Group Size:\n",
        "- 2 to 3 students per group.\n",
        "\n",
        "### Tools Required:\n",
        "- **Google Colab**\n",
        "- **SQLite (built into Python)**\n",
        "- **CSV files (provided for import)**"
      ]
    },
    {
      "cell_type": "markdown",
      "id": "5535e625",
      "metadata": {
        "id": "5535e625"
      },
      "source": [
        "## Step 1: Setting Up Your SQLite Database\n",
        "\n",
        "### Tasks:\n",
        "1. Initialize SQLite in Google Colab.\n",
        "2. Create a database named `superhero_db.sqlite`.\n",
        "3. Define the database schema, ensuring it includes the following tables:\n",
        "   - `heroes`: Stores superhero names, powers, and teams.\n",
        "   - `villains`: Stores villains and their evil plans.\n",
        "   - `battles`: Tracks battles between heroes and villains, including the outcome.\n",
        "4. Implement primary keys and foreign keys where appropriate.\n",
        "\n",
        "✅ **Checkpoint:** Ensure that the database and tables have been successfully created."
      ]
    },
    {
      "cell_type": "code",
      "source": [
        "import sqlite3\n",
        "\n",
        "# Create or connect to an SQLite database\n",
        "connection = sqlite3.connect('superhero_db.sqlite')\n",
        "\n",
        "# Check if the connection was successful\n",
        "print(\"Database created and connected!\")"
      ],
      "metadata": {
        "id": "_Se8Bk775mBi",
        "outputId": "456cae2f-d1e4-4040-d036-144b5a5c110b",
        "colab": {
          "base_uri": "https://localhost:8080/"
        }
      },
      "id": "_Se8Bk775mBi",
      "execution_count": 8,
      "outputs": [
        {
          "output_type": "stream",
          "name": "stdout",
          "text": [
            "Database created and connected!\n"
          ]
        }
      ]
    },
    {
      "cell_type": "code",
      "source": [
        "# Create a cursor object\n",
        "cursor = connection.cursor()\n",
        "\n",
        "# Explanation\n",
        "print(\"Cursor created!\")"
      ],
      "metadata": {
        "id": "sPRK0UUC5wKE",
        "outputId": "dec4eac9-2728-4431-b15a-9fd8b1278f11",
        "colab": {
          "base_uri": "https://localhost:8080/"
        }
      },
      "id": "sPRK0UUC5wKE",
      "execution_count": 9,
      "outputs": [
        {
          "output_type": "stream",
          "name": "stdout",
          "text": [
            "Cursor created!\n"
          ]
        }
      ]
    },
    {
      "cell_type": "code",
      "source": [
        "# Create the heroes table\n",
        "cursor.execute('''\n",
        "CREATE TABLE IF NOT EXISTS heroes (\n",
        "    id INTEGER PRIMARY KEY AUTOINCREMENT,\n",
        "    name TEXT NOT NULL,\n",
        "    power TEXT NOT NULL,\n",
        "    team TEXT NOT NULL\n",
        ")\n",
        "''')\n",
        "\n",
        "print(\"Heroes table created!\")\n"
      ],
      "metadata": {
        "id": "ev_4OYsR50PB",
        "outputId": "f7e36bfb-d998-4d7f-d1aa-589020e51c7d",
        "colab": {
          "base_uri": "https://localhost:8080/"
        }
      },
      "id": "ev_4OYsR50PB",
      "execution_count": 10,
      "outputs": [
        {
          "output_type": "stream",
          "name": "stdout",
          "text": [
            "Heroes table created!\n"
          ]
        }
      ]
    },
    {
      "cell_type": "code",
      "source": [
        "# Create the villains table\n",
        "cursor.execute('''\n",
        "CREATE TABLE IF NOT EXISTS villains (\n",
        "    id INTEGER PRIMARY KEY AUTOINCREMENT,\n",
        "    name TEXT NOT NULL,\n",
        "    evil_plan TEXT NOT NULL\n",
        ")\n",
        "''')\n",
        "\n",
        "print(\"Villains table created!\")\n"
      ],
      "metadata": {
        "id": "7qJb9SID8g51",
        "outputId": "cb0441e6-0b23-4305-ffd6-fd01d93f5747",
        "colab": {
          "base_uri": "https://localhost:8080/"
        }
      },
      "id": "7qJb9SID8g51",
      "execution_count": 25,
      "outputs": [
        {
          "output_type": "stream",
          "name": "stdout",
          "text": [
            "Villains table created!\n"
          ]
        }
      ]
    },
    {
      "cell_type": "code",
      "source": [
        "# Create the battles table\n",
        "cursor.execute('''\n",
        "CREATE TABLE IF NOT EXISTS battles (\n",
        "    id INTEGER PRIMARY KEY AUTOINCREMENT,\n",
        "    hero_id INTEGER,\n",
        "    villain_id INTEGER,\n",
        "    outcome TEXT NOT NULL\n",
        ")\n",
        "''')\n",
        "\n",
        "print(\"Battles table created!\")\n"
      ],
      "metadata": {
        "id": "PtZxeZau9KAh",
        "outputId": "033c8c94-576e-43f6-bccd-4e28a35b2ed7",
        "colab": {
          "base_uri": "https://localhost:8080/"
        }
      },
      "id": "PtZxeZau9KAh",
      "execution_count": 26,
      "outputs": [
        {
          "output_type": "stream",
          "name": "stdout",
          "text": [
            "Battles table created!\n"
          ]
        }
      ]
    },
    {
      "cell_type": "markdown",
      "id": "154b3c3a",
      "metadata": {
        "id": "154b3c3a"
      },
      "source": [
        "## Step 2: Import Data from CSV Files\n",
        "\n",
        "### Tasks:\n",
        "1. Download the provided CSV files.\n",
        "2. Upload them to Google Colab.\n",
        "3. Write a script to import data from these files into the appropriate tables.\n",
        "4. Verify that the data has been successfully inserted.\n",
        "\n",
        "✅ **Checkpoint:** Ensure that each table contains the expected data from the CSV files."
      ]
    },
    {
      "cell_type": "code",
      "source": [
        "import pandas as pd\n",
        "\n",
        "# Load data from CSV into a DataFrame\n",
        "df_heroes = pd.read_csv('heroes.csv')\n",
        "\n",
        "# Display the first few rows of the DataFrame\n",
        "print(df_heroes.head())\n"
      ],
      "metadata": {
        "id": "YxAI7HTE-A38",
        "outputId": "84337dcb-e1ea-44d7-c278-13953ced49f5",
        "colab": {
          "base_uri": "https://localhost:8080/"
        }
      },
      "id": "YxAI7HTE-A38",
      "execution_count": 27,
      "outputs": [
        {
          "output_type": "stream",
          "name": "stdout",
          "text": [
            "   id        name             power            team\n",
            "0   1  Spider-Man      Web-slinging        Avengers\n",
            "1   2    Iron Man     Powered Armor        Avengers\n",
            "2   3      Batman  Genius Detective  Justice League\n",
            "3   4    Superman    Super Strength  Justice League\n",
            "4   5        Thor    God of Thunder        Avengers\n"
          ]
        }
      ]
    },
    {
      "cell_type": "code",
      "source": [
        "# Fetch all data from the heroes table\n",
        "df_heroes.to_sql('heroes', connection, if_exists='replace', index=False)\n",
        "\n",
        "cursor.execute(\"SELECT * FROM heroes\")\n",
        "rows = cursor.fetchall()\n",
        "\n",
        "# Print the results\n",
        "print(\"All heroes data:\")\n",
        "for row in rows:\n",
        "    print(row)"
      ],
      "metadata": {
        "id": "vdhxt5AY_1sz",
        "outputId": "62540f8a-9732-4167-8c5a-9e13833e3a8d",
        "colab": {
          "base_uri": "https://localhost:8080/"
        }
      },
      "id": "vdhxt5AY_1sz",
      "execution_count": 28,
      "outputs": [
        {
          "output_type": "stream",
          "name": "stdout",
          "text": [
            "All heroes data:\n",
            "(1, 'Spider-Man', 'Web-slinging', 'Avengers')\n",
            "(2, 'Iron Man', 'Powered Armor', 'Avengers')\n",
            "(3, 'Batman', 'Genius Detective', 'Justice League')\n",
            "(4, 'Superman', 'Super Strength', 'Justice League')\n",
            "(5, 'Thor', 'God of Thunder', 'Avengers')\n",
            "(6, 'Wonder Woman', 'Amazonian Strength', 'Justice League')\n",
            "(7, 'Black Panther', 'Enhanced Agility', 'Avengers')\n",
            "(8, 'The Flash', 'Super Speed', 'Justice League')\n",
            "(9, 'Hulk', 'Super Strength', 'Avengers')\n",
            "(10, 'Doctor Strange', 'Mystic Arts', 'Avengers')\n"
          ]
        }
      ]
    },
    {
      "cell_type": "code",
      "source": [
        "# Load data from CSV into a DataFrame\n",
        "df_villains = pd.read_csv('villains.csv')\n",
        "\n",
        "# Display the first few rows of the DataFrame\n",
        "print(df_villains.head())"
      ],
      "metadata": {
        "id": "EDA6Hw1Q-49I",
        "outputId": "14df4c5a-7db4-4714-98b7-4abf8c3ab2b1",
        "colab": {
          "base_uri": "https://localhost:8080/"
        }
      },
      "id": "EDA6Hw1Q-49I",
      "execution_count": 29,
      "outputs": [
        {
          "output_type": "stream",
          "name": "stdout",
          "text": [
            "   id          name                           evil_plan\n",
            "0   1  Green Goblin                  Terrorize New York\n",
            "1   2        Thanos         Collect all Infinity Stones\n",
            "2   3         Joker              Spread chaos in Gotham\n",
            "3   4    Lex Luthor                     Defeat Superman\n",
            "4   5          Loki  Trick humanity into worshiping him\n"
          ]
        }
      ]
    },
    {
      "cell_type": "code",
      "source": [
        "# Fetch all data from the villains table\n",
        "df_villains.to_sql('villains', connection, if_exists='replace', index=False)\n",
        "\n",
        "cursor.execute(\"SELECT * FROM villains\")\n",
        "rows = cursor.fetchall()\n",
        "\n",
        "# Print the results\n",
        "print(\"All villains data:\")\n",
        "for row in rows:\n",
        "    print(row)"
      ],
      "metadata": {
        "id": "cWSUut3ID3sX",
        "outputId": "dd599d09-1fcf-4487-b415-13b9e83c0ae0",
        "colab": {
          "base_uri": "https://localhost:8080/"
        }
      },
      "id": "cWSUut3ID3sX",
      "execution_count": 37,
      "outputs": [
        {
          "output_type": "stream",
          "name": "stdout",
          "text": [
            "All villains data:\n",
            "(1, 'Green Goblin', 'Terrorize New York')\n",
            "(2, 'Thanos', 'Collect all Infinity Stones')\n",
            "(3, 'Joker', 'Spread chaos in Gotham')\n",
            "(4, 'Lex Luthor', 'Defeat Superman')\n",
            "(5, 'Loki', 'Trick humanity into worshiping him')\n",
            "(6, 'Ultron', 'AI world domination')\n",
            "(7, 'Darkseid', 'Control the universe')\n",
            "(8, 'Venom', 'Consume Spider-Man')\n",
            "(9, 'Magneto', 'Mutant supremacy')\n",
            "(10, 'Red Skull', 'Revive Hydra')\n"
          ]
        }
      ]
    },
    {
      "cell_type": "code",
      "source": [
        "# Load data from CSV into a DataFrame\n",
        "df_battles = pd.read_csv('battles.csv')\n",
        "\n",
        "# Display the first few rows of the DataFrame\n",
        "print(df_battles.head())"
      ],
      "metadata": {
        "id": "NPWsal0T_EyN",
        "outputId": "172205bd-0f3d-46ea-fe4c-af2e62171174",
        "colab": {
          "base_uri": "https://localhost:8080/"
        }
      },
      "id": "NPWsal0T_EyN",
      "execution_count": 38,
      "outputs": [
        {
          "output_type": "stream",
          "name": "stdout",
          "text": [
            "   id  hero_id  villain_id       outcome\n",
            "0   1        1          10  Villain Wins\n",
            "1   2        9           3     Hero Wins\n",
            "2   3        8           1          Draw\n",
            "3   4        5           4  Villain Wins\n",
            "4   5        1           7     Hero Wins\n"
          ]
        }
      ]
    },
    {
      "cell_type": "code",
      "source": [
        "# Fetch all data from the battles table\n",
        "df_battles.to_sql('battles', connection, if_exists='replace', index=False)\n",
        "\n",
        "cursor.execute(\"SELECT * FROM battles\")\n",
        "rows = cursor.fetchall()\n",
        "\n",
        "# Print the results\n",
        "print(\"All battles data:\")\n",
        "for row in rows:\n",
        "    print(row)"
      ],
      "metadata": {
        "id": "V0esx0RUD_kC",
        "outputId": "c1c7d8a4-8e7c-40f5-941a-d813769631ba",
        "colab": {
          "base_uri": "https://localhost:8080/"
        }
      },
      "id": "V0esx0RUD_kC",
      "execution_count": 39,
      "outputs": [
        {
          "output_type": "stream",
          "name": "stdout",
          "text": [
            "All battles data:\n",
            "(1, 1, 10, 'Villain Wins')\n",
            "(2, 9, 3, 'Hero Wins')\n",
            "(3, 8, 1, 'Draw')\n",
            "(4, 5, 4, 'Villain Wins')\n",
            "(5, 1, 7, 'Hero Wins')\n",
            "(6, 2, 8, 'Villain Wins')\n",
            "(7, 9, 8, 'Hero Wins')\n",
            "(8, 3, 2, 'Hero Wins')\n",
            "(9, 7, 5, 'Hero Wins')\n",
            "(10, 3, 1, 'Draw')\n",
            "(11, 1, 8, 'Villain Wins')\n",
            "(12, 2, 1, 'Draw')\n",
            "(13, 8, 9, 'Hero Wins')\n",
            "(14, 8, 1, 'Draw')\n",
            "(15, 6, 10, 'Draw')\n",
            "(16, 1, 1, 'Villain Wins')\n",
            "(17, 8, 3, 'Draw')\n",
            "(18, 6, 3, 'Villain Wins')\n",
            "(19, 4, 8, 'Villain Wins')\n",
            "(20, 3, 4, 'Hero Wins')\n",
            "(21, 8, 1, 'Draw')\n",
            "(22, 4, 9, 'Draw')\n",
            "(23, 3, 9, 'Draw')\n",
            "(24, 8, 9, 'Villain Wins')\n",
            "(25, 2, 5, 'Draw')\n",
            "(26, 3, 7, 'Draw')\n",
            "(27, 10, 3, 'Draw')\n",
            "(28, 3, 8, 'Draw')\n",
            "(29, 3, 5, 'Hero Wins')\n",
            "(30, 5, 5, 'Hero Wins')\n"
          ]
        }
      ]
    },
    {
      "cell_type": "markdown",
      "id": "33548d9f",
      "metadata": {
        "id": "33548d9f"
      },
      "source": [
        "## Step 3: Querying the Database\n",
        "\n",
        "### Tasks:\n",
        "Write SQL queries to answer the following:\n",
        "1. Retrieve all superheroes and their powers.\n",
        "2. Find all battles where the hero won.\n",
        "3. List all villains and their evil plans.\n",
        "4. Determine which superhero has fought the most battles.\n",
        "\n",
        "✅ **Checkpoint:** Ensure that all queries return meaningful results from the database."
      ]
    },
    {
      "cell_type": "code",
      "source": [
        "# Execute the query to retrieve all superheroes and their powers\n",
        "cursor.execute(\"SELECT name, power FROM heroes\")\n",
        "\n",
        "# Fetch all results\n",
        "heroes_data = cursor.fetchall()\n",
        "\n",
        "# Print the results\n",
        "print(\"Superheroes and their powers:\")\n",
        "for hero in heroes_data:\n",
        "    print(f\"Name: {hero[0]}, Power: {hero[1]}\")"
      ],
      "metadata": {
        "colab": {
          "base_uri": "https://localhost:8080/"
        },
        "id": "JYc1kf6sySlL",
        "outputId": "5a66f714-51d4-4a6d-a96d-4ef411a274bc"
      },
      "id": "JYc1kf6sySlL",
      "execution_count": 40,
      "outputs": [
        {
          "output_type": "stream",
          "name": "stdout",
          "text": [
            "Superheroes and their powers:\n",
            "Name: Spider-Man, Power: Web-slinging\n",
            "Name: Iron Man, Power: Powered Armor\n",
            "Name: Batman, Power: Genius Detective\n",
            "Name: Superman, Power: Super Strength\n",
            "Name: Thor, Power: God of Thunder\n",
            "Name: Wonder Woman, Power: Amazonian Strength\n",
            "Name: Black Panther, Power: Enhanced Agility\n",
            "Name: The Flash, Power: Super Speed\n",
            "Name: Hulk, Power: Super Strength\n",
            "Name: Doctor Strange, Power: Mystic Arts\n"
          ]
        }
      ]
    },
    {
      "cell_type": "code",
      "source": [
        "# Execute the query to find battles where the hero won\n",
        "cursor.execute(\"SELECT * FROM battles WHERE outcome = 'Hero Wins'\")\n",
        "\n",
        "# Fetch all results\n",
        "hero_wins = cursor.fetchall()\n",
        "\n",
        "# Print the results\n",
        "print(\"Battles where the hero won:\")\n",
        "for battle in hero_wins:\n",
        "    print(f\"Battle ID: {battle[0]}, Hero ID: {battle[1]}, Villain ID: {battle[2]}, Outcome: {battle[3]}\")"
      ],
      "metadata": {
        "colab": {
          "base_uri": "https://localhost:8080/"
        },
        "id": "bpxRwU0KycFs",
        "outputId": "15ffe47f-9cd0-420a-cde7-a8e9a114cb76"
      },
      "id": "bpxRwU0KycFs",
      "execution_count": 41,
      "outputs": [
        {
          "output_type": "stream",
          "name": "stdout",
          "text": [
            "Battles where the hero won:\n",
            "Battle ID: 2, Hero ID: 9, Villain ID: 3, Outcome: Hero Wins\n",
            "Battle ID: 5, Hero ID: 1, Villain ID: 7, Outcome: Hero Wins\n",
            "Battle ID: 7, Hero ID: 9, Villain ID: 8, Outcome: Hero Wins\n",
            "Battle ID: 8, Hero ID: 3, Villain ID: 2, Outcome: Hero Wins\n",
            "Battle ID: 9, Hero ID: 7, Villain ID: 5, Outcome: Hero Wins\n",
            "Battle ID: 13, Hero ID: 8, Villain ID: 9, Outcome: Hero Wins\n",
            "Battle ID: 20, Hero ID: 3, Villain ID: 4, Outcome: Hero Wins\n",
            "Battle ID: 29, Hero ID: 3, Villain ID: 5, Outcome: Hero Wins\n",
            "Battle ID: 30, Hero ID: 5, Villain ID: 5, Outcome: Hero Wins\n"
          ]
        }
      ]
    },
    {
      "cell_type": "code",
      "source": [
        "# Execute the query to retrieve all villains and their evil plans\n",
        "cursor.execute(\"SELECT name, evil_plan FROM villains\")\n",
        "\n",
        "# Fetch all results\n",
        "villains_data = cursor.fetchall()\n",
        "\n",
        "# Print the results\n",
        "print(\"Villains and their evil plans:\")\n",
        "for villain in villains_data:\n",
        "    print(f\"Name: {villain[0]}, Evil Plan: {villain[1]}\")"
      ],
      "metadata": {
        "colab": {
          "base_uri": "https://localhost:8080/"
        },
        "id": "HtdbmTO1ytJo",
        "outputId": "6e4a9f52-53aa-4b72-85ca-095a75872407"
      },
      "id": "HtdbmTO1ytJo",
      "execution_count": 42,
      "outputs": [
        {
          "output_type": "stream",
          "name": "stdout",
          "text": [
            "Villains and their evil plans:\n",
            "Name: Green Goblin, Evil Plan: Terrorize New York\n",
            "Name: Thanos, Evil Plan: Collect all Infinity Stones\n",
            "Name: Joker, Evil Plan: Spread chaos in Gotham\n",
            "Name: Lex Luthor, Evil Plan: Defeat Superman\n",
            "Name: Loki, Evil Plan: Trick humanity into worshiping him\n",
            "Name: Ultron, Evil Plan: AI world domination\n",
            "Name: Darkseid, Evil Plan: Control the universe\n",
            "Name: Venom, Evil Plan: Consume Spider-Man\n",
            "Name: Magneto, Evil Plan: Mutant supremacy\n",
            "Name: Red Skull, Evil Plan: Revive Hydra\n"
          ]
        }
      ]
    },
    {
      "cell_type": "code",
      "source": [
        "# Execute the query to find the superhero with the most battles\n",
        "cursor.execute(\"\"\"\n",
        "    SELECT heroes.name, COUNT(battles.hero_id) AS battle_count\n",
        "    FROM battles\n",
        "    JOIN heroes ON battles.hero_id = heroes.id\n",
        "    GROUP BY battles.hero_id\n",
        "    ORDER BY battle_count DESC\n",
        "    LIMIT 1;\n",
        "\"\"\")\n",
        "\n",
        "# Fetch the result\n",
        "most_battles = cursor.fetchone()\n",
        "\n",
        "# Print the result\n",
        "if most_battles:\n",
        "    print(f\"Superhero with the most battles: {most_battles[0]} with {most_battles[1]} battles.\")\n",
        "else:\n",
        "    print(\"No battles found.\")"
      ],
      "metadata": {
        "colab": {
          "base_uri": "https://localhost:8080/"
        },
        "id": "fcsTxQ5p3Oh-",
        "outputId": "264e65d2-c0e2-4965-d192-c79a9fd1ec42"
      },
      "id": "fcsTxQ5p3Oh-",
      "execution_count": 43,
      "outputs": [
        {
          "output_type": "stream",
          "name": "stdout",
          "text": [
            "Superhero with the most battles: Batman with 7 battles.\n"
          ]
        }
      ]
    },
    {
      "cell_type": "markdown",
      "id": "de8bda94",
      "metadata": {
        "id": "de8bda94"
      },
      "source": [
        "## Step 4: Add a Custom Feature\n",
        "\n",
        "### Tasks:\n",
        "1. Design and implement an additional table related to superheroes or villains.\n",
        "2. Populate it with data.\n",
        "3. Write at least one query to retrieve meaningful insights from the new table.\n",
        "\n",
        "**Examples of Custom Features:**\n",
        "- Sidekicks for superheroes\n",
        "- Villain hideouts\n",
        "- Battle locations\n",
        "- Superhero equipment\n",
        "\n",
        "✅ **Checkpoint:** Ensure that the new table and queries function correctly."
      ]
    },
    {
      "cell_type": "code",
      "source": [
        "cursor.execute('''\n",
        "CREATE TABLE IF NOT EXISTS sidekicks (\n",
        "    id INTEGER PRIMARY KEY AUTOINCREMENT,\n",
        "    hero_id INTEGER,\n",
        "    sidekick_name TEXT NOT NULL,\n",
        "    sidekick_power TEXT NOT NULL,\n",
        "    FOREIGN KEY (hero_id) REFERENCES heroes(id)\n",
        ")\n",
        "''')\n",
        "\n",
        "print(\"Sidekicks table created!\")"
      ],
      "metadata": {
        "colab": {
          "base_uri": "https://localhost:8080/"
        },
        "id": "no2PS9_Q30t8",
        "outputId": "87122ec9-5433-4856-9a19-8cacd0f86a81"
      },
      "id": "no2PS9_Q30t8",
      "execution_count": 45,
      "outputs": [
        {
          "output_type": "stream",
          "name": "stdout",
          "text": [
            "Sidekicks table created!\n"
          ]
        }
      ]
    },
    {
      "cell_type": "code",
      "source": [
        "sidekick_data = [\n",
        "    (1, \"Cobra\", \"Acrobatics\"),  # Batman's sidekick\n",
        "    (4, \"Wolf\", \"Super Strength\"),  # Hulk's sidekick\n",
        "    (8, \"Phantom\", \"Invisibility\"),  # The Flash's sidekick\n",
        "    (3, \"Spider\", \"Elasticity\"),  # Iron Man's sidekick\n",
        "    (7, \"Echo\", \"Telepathy\")  # Wonder Woman's sidekick\n",
        "]\n",
        "\n",
        "cursor.executemany(\"INSERT INTO sidekicks (hero_id, sidekick_name, sidekick_power) VALUES (?, ?, ?)\", sidekick_data)\n",
        "\n",
        "connection.commit()\n",
        "print(\"Sidekicks data inserted successfully!\")\n"
      ],
      "metadata": {
        "colab": {
          "base_uri": "https://localhost:8080/"
        },
        "id": "xGAH6-NX4K_Q",
        "outputId": "5cd8d3d9-101a-457f-d745-28ca5ff93c79"
      },
      "id": "xGAH6-NX4K_Q",
      "execution_count": 46,
      "outputs": [
        {
          "output_type": "stream",
          "name": "stdout",
          "text": [
            "Sidekicks data inserted successfully!\n"
          ]
        }
      ]
    },
    {
      "cell_type": "code",
      "source": [
        "cursor.execute('''\n",
        "SELECT heroes.name AS hero, sidekicks.sidekick_name, sidekicks.sidekick_power\n",
        "FROM sidekicks\n",
        "JOIN heroes ON sidekicks.hero_id = heroes.id\n",
        "''')\n",
        "\n",
        "sidekick_results = cursor.fetchall()\n",
        "\n",
        "print(\"Superheroes and their sidekicks:\")\n",
        "for row in sidekick_results:\n",
        "    print(f\"Hero: {row[0]}, Sidekick: {row[1]}, Sidekick Power: {row[2]}\")"
      ],
      "metadata": {
        "colab": {
          "base_uri": "https://localhost:8080/"
        },
        "id": "UVqUpm3p6zMm",
        "outputId": "0f92e8e3-5bee-4d8b-99f0-e9a2a1836d6d"
      },
      "id": "UVqUpm3p6zMm",
      "execution_count": 47,
      "outputs": [
        {
          "output_type": "stream",
          "name": "stdout",
          "text": [
            "Superheroes and their sidekicks:\n",
            "Hero: Spider-Man, Sidekick: Cobra, Sidekick Power: Acrobatics\n",
            "Hero: Superman, Sidekick: Wolf, Sidekick Power: Super Strength\n",
            "Hero: The Flash, Sidekick: Phantom, Sidekick Power: Invisibility\n",
            "Hero: Batman, Sidekick: Spider, Sidekick Power: Elasticity\n",
            "Hero: Black Panther, Sidekick: Echo, Sidekick Power: Telepathy\n"
          ]
        }
      ]
    },
    {
      "cell_type": "markdown",
      "id": "9bf43fe6",
      "metadata": {
        "id": "9bf43fe6"
      },
      "source": [
        "## Bonus Challenge (+5 Points)\n",
        "\n",
        "### Tasks:\n",
        "1. Enhance your project by adding a visual or interactive component.\n",
        "\n",
        "**Options:**\n",
        "- Visualize battles using Matplotlib (e.g., a bar chart showing how many battles each superhero has fought).\n",
        "- Make it interactive (e.g., allow users to input a superhero name and display their battles).\n",
        "\n",
        "✅ **Checkpoint:** If attempting the bonus, ensure that your visualization or interactive component works correctly."
      ]
    },
    {
      "cell_type": "code",
      "source": [
        "import matplotlib.pyplot as plt\n",
        "import sqlite3\n",
        "\n",
        "# Connect to the database\n",
        "connection = sqlite3.connect('superhero_db.sqlite')\n",
        "cursor = connection.cursor()\n",
        "\n",
        "# Query to get the number of battles each superhero has fought\n",
        "cursor.execute('''\n",
        "    SELECT h.name, COUNT(b.hero_id) AS battle_count\n",
        "    FROM heroes h\n",
        "    LEFT JOIN battles b ON h.id = b.hero_id\n",
        "    GROUP BY h.id\n",
        "    ORDER BY battle_count DESC\n",
        "''')\n",
        "\n",
        "# Fetch results\n",
        "battle_data = cursor.fetchall()\n",
        "\n",
        "# Separate the names and battle counts\n",
        "hero_names = [data[0] for data in battle_data]\n",
        "battle_counts = [data[1] for data in battle_data]\n",
        "\n",
        "# Create a bar chart\n",
        "plt.figure(figsize=(10, 6))\n",
        "plt.bar(hero_names, battle_counts, color='skyblue')\n",
        "plt.xlabel('Superheroes')\n",
        "plt.ylabel('Number of Battles Fought')\n",
        "plt.title('Number of Battles Fought by Each Superhero')\n",
        "plt.xticks(rotation=45, ha='right')\n",
        "plt.tight_layout()\n",
        "\n",
        "# Show the plot\n",
        "plt.show()\n"
      ],
      "metadata": {
        "colab": {
          "base_uri": "https://localhost:8080/",
          "height": 607
        },
        "id": "r9h2T7cs7K5p",
        "outputId": "a174056b-c7bf-484b-e55f-5ff57fc93ce2"
      },
      "id": "r9h2T7cs7K5p",
      "execution_count": 48,
      "outputs": [
        {
          "output_type": "display_data",
          "data": {
            "text/plain": [
              "<Figure size 1000x600 with 1 Axes>"
            ],
            "image/png": "[encoded data removed]"
          },
          "metadata": {}
        }
      ]
    },
    {
      "cell_type": "markdown",
      "id": "89f56c05",
      "metadata": {
        "id": "89f56c05"
      },
      "source": [
        "## Submission Guidelines\n",
        "\n",
        "Each group must submit a **Google Colab Notebook (.ipynb)** containing:\n",
        "- ✅ **Database schema (DDL)**\n",
        "- ✅ **CSV imports & data insertion (DML)**\n",
        "- ✅ **SQL queries & results**\n",
        "- ✅ **Custom feature (bonus if applicable)**"
      ]
    },
    {
      "cell_type": "markdown",
      "id": "61477c9b",
      "metadata": {
        "id": "61477c9b"
      },
      "source": [
        "## Grading Criteria (Total: 25 Points)\n",
        "\n",
        "| Section                 | Points |\n",
        "|-------------------------|--------|\n",
        "| Database Setup          | 5      |\n",
        "| Data Importing         | 10     |\n",
        "| Querying the Data      | 10     |\n",
        "| Extra Feature          | 5      |\n",
        "| Bonus Challenge (Optional) | +5  |"
      ]
    },
    {
      "cell_type": "markdown",
      "id": "92bf6839",
      "metadata": {
        "id": "92bf6839"
      },
      "source": [
        "### Final Notes:\n",
        "- Be **creative** when designing superheroes and villains.\n",
        "- **Comment your code** to explain its functionality.\n",
        "- **Have fun** building your superhero universe!"
      ]
    }
  ],
  "metadata": {
    "colab": {
      "provenance": [],
      "include_colab_link": true
    },
    "language_info": {
      "name": "python"
    },
    "kernelspec": {
      "name": "python3",
      "display_name": "Python 3"
    }
  },
  "nbformat": 4,
  "nbformat_minor": 5
}